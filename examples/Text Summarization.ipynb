{
 "cells": [
  {
   "cell_type": "code",
   "execution_count": 1,
   "metadata": {
    "ExecuteTime": {
     "end_time": "2020-05-22T16:30:26.851245Z",
     "start_time": "2020-05-22T16:30:26.527561Z"
    }
   },
   "outputs": [],
   "source": [
    "from cube.api import Cube\n",
    "\n",
    "import sys  \n",
    "sys.path.insert(0, '../')\n",
    "\n",
    "import text_rank"
   ]
  },
  {
   "cell_type": "code",
   "execution_count": 2,
   "metadata": {
    "ExecuteTime": {
     "end_time": "2020-05-22T16:30:27.115474Z",
     "start_time": "2020-05-22T16:30:27.101478Z"
    }
   },
   "outputs": [],
   "source": [
    "def extract_sentences(sentences, length, length_pct, clean):\n",
    "    sentence_tokens = []\n",
    "    for sentence in sentences:\n",
    "        words = []\n",
    "        for entry in sentence:\n",
    "            words.append(entry.word)\n",
    "\n",
    "        sentence_tokens.append(' '.join(words))\n",
    "\n",
    "    return text_rank.extract_sentences(sentence_tokens, \n",
    "                                       summary_length=length, \n",
    "                                       summary_length_pct=length_pct, \n",
    "                                       clean_sentences=clean)"
   ]
  },
  {
   "cell_type": "code",
   "execution_count": 3,
   "metadata": {
    "ExecuteTime": {
     "end_time": "2020-05-22T16:30:27.377643Z",
     "start_time": "2020-05-22T16:30:27.364677Z"
    }
   },
   "outputs": [],
   "source": [
    "def extract_key_phrases(sentences, keywords_length, keywords_length_pct):\n",
    "    # Perform POS Tagging\n",
    "    tagged = []\n",
    "    for sentence in sentences:\n",
    "        for entry in sentence:\n",
    "            #tagged.append((entry.word, entry.upos))\n",
    "            tagged.append((entry.lemma, entry.upos, entry.word))\n",
    "\n",
    "    return text_rank.extract_key_phrases(tagged, keywords_length=keywords_length, keywords_length_pct=keywords_length_pct)"
   ]
  },
  {
   "cell_type": "code",
   "execution_count": 4,
   "metadata": {
    "ExecuteTime": {
     "end_time": "2020-05-22T16:30:27.638907Z",
     "start_time": "2020-05-22T16:30:27.625914Z"
    }
   },
   "outputs": [],
   "source": [
    "def summarize_tokenize(language, \n",
    "                       article='1.txt', \n",
    "                       summary_length=100, \n",
    "                       summary_length_pct=0.2, \n",
    "                       clean=True, \n",
    "                       keywords_length=10, \n",
    "                       keywords_length_pct=0.1):\n",
    "    #load json object\n",
    "    with open(f'data/{language}/articles/{article}', encoding='utf-8') as f:\n",
    "        text = f.read()\n",
    "\n",
    "    print('Original text')\n",
    "    print('=====================================')\n",
    "    print(text)\n",
    "    print('=====================================')\n",
    "    \n",
    "    cube = Cube(verbose=True)\n",
    "    cube.load(language)\n",
    "    \n",
    "    sentences = cube(text)\n",
    "    \n",
    "    summary = extract_sentences(sentences, length=summary_length, length_pct=summary_length_pct, clean=clean)\n",
    "    \n",
    "    print(f'Text summary in {language}')\n",
    "    print('=====================================')\n",
    "    print(summary)\n",
    "    print('=====================================')\n",
    "    \n",
    "    phrases = extract_key_phrases(sentences, keywords_length=keywords_length, keywords_length_pct=keywords_length_pct)\n",
    "    print(f'Key topics in {language}')\n",
    "    print('=====================================')\n",
    "    print(phrases)\n",
    "    print('=====================================')"
   ]
  },
  {
   "cell_type": "code",
   "execution_count": 5,
   "metadata": {
    "ExecuteTime": {
     "end_time": "2020-05-22T16:31:07.549050Z",
     "start_time": "2020-05-22T16:30:28.104802Z"
    },
    "scrolled": true
   },
   "outputs": [
    {
     "name": "stdout",
     "output_type": "stream",
     "text": [
      "Original text\n",
      "=====================================\n",
      "Cea mai mare companiei de asigurări din Republica Moldova, Moldasig, intenţionează să procure 99,932% din acţiunile societăţii de asigurări ASITO Kapital din România şi să-şi extindă afacerile pe piaţa românească.\n",
      "\n",
      "\"În Moldova nu mai sunt\n",
      "\n",
      "oportunităţi de investiţii\"\n",
      "\n",
      "Vitalie Bodea, director general Moldasig, a declarat pentru publicaţia Economist că intenţia de a investi pe piaţa românească este determinată şi de faptul, că în Republica Moldova nu prea există la moment oportunităţi de investiţii. \"În afară de depozitele bancare, la care au scăzut considerabil ratele dobânzilor, nu avem unde să investim. De aceea am ales să ne diversificăm portofoliul investiţional şi am ales compania ASITO-Capital\", a explicat el, fără a da însă detalii vizavi de suma investiţiei. \"Deocamdată nu putem vorbi despre investiţie ca despre una finalizată, or trebuie să primim şi avizul Comisiei de Supraveghere a Asigurărilor din România,\", a subliniat Bodea. După toate probabilităţile, acesta ar putea fi obţinut peste două luni, timp în care vor fi analizate capacităţile investiţionale ale Moldasig. Totodată, el a subliniat că aceasta este prima investiţie de aşa amploare a unui asigurator moldovean în afara ţării.\n",
      "\n",
      "Moldasig, o companie ce a\n",
      "\n",
      "fost controlată de familia Voronin\n",
      "\n",
      "Moldasig este lider al pieţii de asigurări din Republica Moldova. Cota companiei pe piaţă este de 28,66%, iar mărimea primelor atrase pentru anul 2010 a fost de circa 262,2 milioane de lei, sau circa 16 milioane de euro.\n",
      "\n",
      "La sfarsitul anului trecut, valoarea activelor Moldasig se ridicau la 507 milioane lei moldovenesti sau circa 31 milioane de euro.\n",
      "\n",
      "Până în anul 2009, Moldasig era controlată de o grupare apropiată de familia Voronin, care a vândut pachetul de control companiei Rosgosstrah, cea mai mare companie de asigurări din Rusia si Europa de Est.\n",
      "\n",
      "Cine controlează Rosgosstrah,\n",
      "\n",
      "soţia lui Putin sau miliardarul Haciaturov?\n",
      "\n",
      "Tranzacţia s-a făcut printr-un offshore din Cipru despre care se spune că ar fi controlat de Ludmila Putina, soţia premierului rus Vladimir Putin.\n",
      "\n",
      "Oficial Rosgosstrah este controlată de miliardarul rus Daniel Haciaturov, locul 54 în topul celor mai bogaţi ruşi cu o avere de 1,2 miliarde de dolari.\n",
      "\n",
      "Cât despre ASITO Kapital, aceasta este o companie de talie mică şi a intrat pe piaţa româneasca în 1998, sub denumirea de LUKOIL Asito, prestând servicii de asigurări în special pe pieţele energetice. Pachetul majoritar la fel este controlat de persoane din cadrul grupului rus Lukoil.\n",
      "\n",
      "Pachetul, pe care intenţionează să-l procure Moldasig se află la moment în proprietatea Norcross Insurance Company Limited, companie de asigurări şi reasigurări, înregistrată pe insula Man din Marea Britanie.\n",
      "\n",
      "\n",
      "\n",
      "\n",
      "\n",
      "\n",
      "=====================================\n",
      "Loading latest local model: ro-1.1\n",
      "\tLoading embeddings ... \n",
      "\tLoading tokenization model ...\n",
      "\tLoading lemmatization model ...\n",
      "\tLoading tagger model ...\n",
      "\tLoading parser model ...\n",
      "Model loading complete.\n",
      "\n",
      "Text summary in ro\n",
      "=====================================\n",
      "Vitalie Bodea , director general Moldasig , a declarat pentru publicaţia Economist că intenţia de a investi pe piaţa românească este determinată şi de faptul , că în Republica Moldova nu prea există la moment oportunităţi de investiţii . Cea mai mare companiei de asigurări din Republica Moldova , Moldasig , intenţionează să procure 99,932% din acţiunile societăţii de asigurări ASITO Kapital din România şi să -şi extindă afacerile pe piaţa românească . Pachetul , pe care intenţionează să -l procure Moldasig se află la moment în proprietatea Norcross Insurance Company Limited , companie de asigurări şi reasigurări , înregistrată pe insula Man din Marea Britanie .\n",
      "=====================================\n",
      "Key topics in ro\n",
      "=====================================\n",
      "{'portofoliul investiţional', 'reasigurări', 'probabilităţile', 'oportunităţi', 'proprietatea', 'ASITO-Capital', 'Tranzacţia', 'Rosgosstrah', 'moldovenesti', 'Supraveghere'}\n",
      "=====================================\n"
     ]
    }
   ],
   "source": [
    "summarize_tokenize('ro')"
   ]
  },
  {
   "cell_type": "code",
   "execution_count": 6,
   "metadata": {
    "ExecuteTime": {
     "end_time": "2020-05-22T16:31:40.202576Z",
     "start_time": "2020-05-22T16:31:07.797040Z"
    }
   },
   "outputs": [
    {
     "name": "stdout",
     "output_type": "stream",
     "text": [
      "Original text\n",
      "=====================================\n",
      "Last week, the supervision authority of the Moldavian insurance market authorized the decrease from 80% to 0% of the share owned by the Russian company ROSGOSSTRAKH in the capital of MOLDASIG, the leader of the Moldavian insurance market.According to the Chisinau press, ROSGOSSTRAKH intends to sell its 80% of MOLDASIG's shares because the Russian group wants to focus on the development in the Russian Federation. According to certain market sources, they are currently negotiating with a number of potential buyers and the decision will be announced shortly.At the end of October 2011, the leader of the Moldavian insurance market extended on the Romanian market, MOLDASIG being authorized by ISC to buy the company ASITO KAPITAL.MOLDASIG was founded in 2002 by three companies with shareholdings mostly owned by the State: The Economy Bank - 51%, The Moldavian Railway - 25% and the Moldavian Postoffice - 24%. In 2008, ROSGOSSTRAKH became the owner of 80% of shareholdings, after a capital increase of MDL 48 million.With business totalizing over EUR 17.3 million at the end of 2001, MOLDASIG was the largest insurer in the Republic of Moldova, the market share of the company reaching 28%. At the same time, with MLD 60 million, MOLDASIG is the second most capitalized insurance company in the Republic of Moldova, after SIGUR-ASIGUR (MDL 67.4 million).With more than 90 years of experience, ROSGOSSTRAKH is one of the largest players on the Russian insurance market (leader on the non-life segment), with over 25 million clients natural persons, 250.000 corporate clients and around 100.000 employees - of which 65.000 are agents. In Russia, the company owns approximately 3000 regional offices and 400 claims centers. Internationally, besides the Republic of Moldova, the ROSGOSSTRAKH Group also activates in Ukraine (through the company PROVIDNA) and Armenia (RGS-Armenia).\n",
      "=====================================\n",
      "Loading latest local model: en-1.1\n",
      "\tLoading embeddings ... \n",
      "\tLoading tokenization model ...\n",
      "\tLoading lemmatization model ...\n",
      "\tLoading tagger model ...\n",
      "\tLoading parser model ...\n",
      "Model loading complete.\n",
      "\n",
      "Text summary in en\n",
      "=====================================\n",
      "According to certain market sources , they are currently negotiating with a number of potential buyers and the decision will be announced shortly . At the end of October 2011 , the leader of the Moldavian insurance market extended on the Romanian market , MOLDASIG being authorized by ISC to buy the company ASITO KAPITAL.\n",
      "=====================================\n",
      "Key topics in en\n",
      "=====================================\n",
      "{'shareholdings', 'development', 'Postoffice', 'ROSGOSSTRAKH', 'Federation', 'supervision', 'PROVIDNA', 'experience'}\n",
      "=====================================\n"
     ]
    }
   ],
   "source": [
    "summarize_tokenize('en')"
   ]
  },
  {
   "cell_type": "code",
   "execution_count": null,
   "metadata": {},
   "outputs": [],
   "source": []
  }
 ],
 "metadata": {
  "kernelspec": {
   "display_name": "Python 3",
   "language": "python",
   "name": "python3"
  },
  "language_info": {
   "codemirror_mode": {
    "name": "ipython",
    "version": 3
   },
   "file_extension": ".py",
   "mimetype": "text/x-python",
   "name": "python",
   "nbconvert_exporter": "python",
   "pygments_lexer": "ipython3",
   "version": "3.7.7"
  },
  "toc": {
   "base_numbering": 1,
   "nav_menu": {},
   "number_sections": true,
   "sideBar": true,
   "skip_h1_title": false,
   "title_cell": "Table of Contents",
   "title_sidebar": "Contents",
   "toc_cell": false,
   "toc_position": {},
   "toc_section_display": true,
   "toc_window_display": false
  },
  "varInspector": {
   "cols": {
    "lenName": 16,
    "lenType": 16,
    "lenVar": 40
   },
   "kernels_config": {
    "python": {
     "delete_cmd_postfix": "",
     "delete_cmd_prefix": "del ",
     "library": "var_list.py",
     "varRefreshCmd": "print(var_dic_list())"
    },
    "r": {
     "delete_cmd_postfix": ") ",
     "delete_cmd_prefix": "rm(",
     "library": "var_list.r",
     "varRefreshCmd": "cat(var_dic_list()) "
    }
   },
   "types_to_exclude": [
    "module",
    "function",
    "builtin_function_or_method",
    "instance",
    "_Feature"
   ],
   "window_display": false
  }
 },
 "nbformat": 4,
 "nbformat_minor": 4
}
